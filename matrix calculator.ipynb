{
 "cells": [
  {
   "cell_type": "code",
   "execution_count": 22,
   "metadata": {},
   "outputs": [
    {
     "name": "stdout",
     "output_type": "stream",
     "text": [
      "[[ 1.51758042e+03 -2.15597260e+01  7.03886774e-02]\n",
      " [-2.15597260e+01  3.38574112e-01 -1.17158345e-03]\n",
      " [ 7.03886774e-02 -1.17158345e-03  4.20524669e-06]]\n",
      "[7.25764961e+01 1.60453048e+00 2.25414508e-03]\n"
     ]
    }
   ],
   "source": [
    "import numpy as np\n",
    "\n",
    "\n",
    "\n",
    "def doublearray(x):\n",
    "    M = np.ones((len(x),3),dtype = int)\n",
    "    for i in range (0,len(x)):\n",
    "        M[i,1] = x[i]\n",
    "        M[i,2] = x[i]**2\n",
    "    return M\n",
    "def C(sigma):\n",
    "    C = np.zeros((len(sigma),len(sigma)))\n",
    "    for i in range (0, len(sigma)):\n",
    "        C[i,i] = 1/(sigma[i]**2)\n",
    "    return C\n",
    "\n",
    "x = [58,210,202,198,158,165,201,157,131,166,160,186,125,218,146]\n",
    "\n",
    "y = np.array([173,479,504,510,416,393,442,317,311,400,337,423,334,533,344])\n",
    "M = doublearray(x)\n",
    "\n",
    "M_T = M.transpose()\n",
    "\n",
    "sigma = [15,27,14,30,16,14,25,52,16,34,31,42,26,16,22]\n",
    "Cminos1 = C(sigma)\n",
    "\n",
    "covTheta = np.linalg.inv(M_T.dot(Cminos1.dot(M)))\n",
    "theta = covTheta.dot(M_T.dot(Cminos1.dot(y)))\n",
    "\n",
    "print(covTheta)\n",
    "print(theta)\n"
   ]
  }
 ],
 "metadata": {
  "kernelspec": {
   "display_name": "Python 3",
   "language": "python",
   "name": "python3"
  },
  "language_info": {
   "codemirror_mode": {
    "name": "ipython",
    "version": 3
   },
   "file_extension": ".py",
   "mimetype": "text/x-python",
   "name": "python",
   "nbconvert_exporter": "python",
   "pygments_lexer": "ipython3",
   "version": "3.6.7"
  }
 },
 "nbformat": 4,
 "nbformat_minor": 2
}
