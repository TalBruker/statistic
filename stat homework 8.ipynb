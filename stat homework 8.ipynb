{
 "cells": [
  {
   "cell_type": "code",
   "execution_count": 2,
   "metadata": {},
   "outputs": [
    {
     "data": {
      "image/png": "[encoded data removed]",
      "text/plain": [
       "<Figure size 432x288 with 1 Axes>"
      ]
     },
     "metadata": {
      "needs_background": "light"
     },
     "output_type": "display_data"
    },
    {
     "name": "stdout",
     "output_type": "stream",
     "text": [
      "[1.20399466 1.2674415  1.25777051 ... 1.17516376 1.20102141 1.1802364 ]\n",
      "avgA = 1.201, avgB = 4.716, Var(a) = 0.04333, Var(b) = 0.08846\n",
      "\n"
     ]
    }
   ],
   "source": [
    "import numpy as np\n",
    "import matplotlib.pyplot as plt\n",
    "# example data\n",
    "# mu = 100 mean of distribution\n",
    "def sigmaSumFactor(sigma, V):\n",
    "    A = 0\n",
    "    for i in range (0,len(V)):\n",
    "        A = A + V[i]/((sigma[i])**2)\n",
    "    return A\n",
    "#שימוש בקוד מהתרגיל הקודם\n",
    "def abplot(y, x, deltaY):\n",
    "    A = sigmaSumFactor(deltaY, x)\n",
    "    B = sigmaSumFactor(deltaY, np.ones(len(x)))\n",
    "    C = sigmaSumFactor(deltaY, y)\n",
    "    D = sigmaSumFactor(deltaY, x*x)\n",
    "    E = sigmaSumFactor(deltaY, x*y)\n",
    "#   F = sigmaSumFactor(deltaY, y*y)\n",
    "    aHat = ((B*E-A*C)/(D*B-A*A))\n",
    "    bHat = ((C*D-A*E)/(D*B-A*A))\n",
    "    return [aHat,bHat]\n",
    "def f(a,b,x):\n",
    "    return [i * a + b for i in x]\n",
    "sampleNum = 50\n",
    "x = np.random.uniform(-3, 7, sampleNum)\n",
    "#נגדיר את אפסילון בתור מספר רנדונלי שמתפלג נורמלית סביב 0 עם סטיית תקן 1.\n",
    "epsilon = np.random.normal(0, 1, sampleNum)\n",
    "y = 1.2*x + 5 + epsilon\n",
    "deltaY = np.ones(len(x))\n",
    "plotVars = abplot(y, x, deltaY)\n",
    "\n",
    "#יצירת הקו\n",
    "x1 = [-3,7]\n",
    "y1 = f(plotVars[0],plotVars[1],x1)\n",
    "avg = np.average(x)\n",
    "#should be 2 from symetry, 2 = (-3+7)/2\n",
    "var = np.std(x)\n",
    "\n",
    "plt.rc('text', usetex=True)\n",
    "plt.rc('font', family='serif')\n",
    "plt.plot(x, y, 'ro', x1, y1, 'blue')\n",
    "plt.ylabel('y')\n",
    "plt.xlabel('x')\n",
    "plt.title('y(x).' + r' $\\bar{x}$ is %.2f' %(avg) +' , Var(x) is %.2f' % (var) + ' and the Number of Samples is ' + str(sampleNum))\n",
    "plt.show()\n",
    "#end of section c. i did some extra stuff because its fun.\n",
    "\n",
    "#section d:\n",
    "sampleNumD = 10000\n",
    "a_D = np.zeros(sampleNumD)\n",
    "b_D = np.zeros(sampleNumD)\n",
    "for i in range(0,sampleNumD):\n",
    "    x_D = np.random.uniform(-3, 7, sampleNum)\n",
    "    #נגדיר את אפסילון בתור מספר רנדונלי שמתפלג נורמלית סביב 0 עם סטיית תקן 1.\n",
    "    epsilon_D = np.random.normal(0, 1, sampleNum)\n",
    "    y_D = 1.2*x_D + 5 + epsilon\n",
    "    deltaY_D = np.ones(len(x_D))\n",
    "    plotVars_D = abplot(y_D, x_D, deltaY)\n",
    "    \n",
    "    a_D[i] = plotVars_D[0]\n",
    "    b_D[i] = plotVars_D[1]\n",
    "    \n",
    "print(a_D)\n",
    "avgA = np.average(a_D)\n",
    "avgB = np.average(b_D)\n",
    "varA = np.std(a_D)\n",
    "varB = np.std(b_D)\n",
    "#expected values: avgA = 1.2, avgB = 5. from the definition of y\n",
    "print(\"avgA = %.3f\"%avgA + \", avgB = %.3f\"%avgB + \", Var(a) = %.5f\"%varA + \", Var(b) = %.5f\"%varB)\n",
    "#plt.plot()\n",
    "#plt.text(0.5, 0.5,'$\\bar{a}$ = %.2f and $\\bar{b}$ = %.2f'%(avgA, avgB))\n",
    "#plt.show()\n",
    "print()\n",
    "#x1 = [-3,7]\n",
    "#y1 = 1.2*x1\n",
    "#plt.plot(x1, y1, 'r', x, y, 'b')\n",
    "#plt.show()\n",
    "#sigma2 = np.std(tl, 1)\n",
    "#avg2 = np.empty(len(tl), dtype='double')\n",
    "#for i in range(0, len(tl)):\n",
    "#    avg2[i] = np.average(tl[i])\n",
    "#    print(\"average %d = \" %i, np.average(tl[i]))\n",
    "#    print(\"avg2 = \", avg2)\n",
    "\n",
    "#print(sigma2, avg)\n",
    "\n",
    "\n",
    "#num_bins = 20\n",
    "# the histogram of the data\n",
    "#n, bins, patches = plt.hist(x, num_bins, range=(0, 1), facecolor='turquoise', alpha=0.63)\n",
    "\n",
    "# add a 'best fit' line\n",
    "#y = mlab.normpdf(bins, mu, sigma)\n",
    "#plt.plot(bins, y, 'r--')\n",
    "#plt.plot_date\n",
    "#plt.plot(x, 0*x + 0.5*30*2, range=(0, 1),  color='blue', alpha=1, linestyle='dashdot')\n",
    "#plt.xlabel('number between 0 to 1')\n",
    "#plt.ylabel('count')\n",
    "#plt.title(r'Histogram of random numbers: $\\sigma=%f$, $avg=%f$' %(sigma, avg))\n",
    "\n",
    "# Tweak spacing to prevent clipping of ylabel\n",
    "#plt.subplots_adjust(left=0.15)\n",
    "#plt.show()\n"
   ]
  },
  {
   "cell_type": "code",
   "execution_count": null,
   "metadata": {},
   "outputs": [],
   "source": []
  },
  {
   "cell_type": "code",
   "execution_count": null,
   "metadata": {},
   "outputs": [],
   "source": []
  },
  {
   "cell_type": "code",
   "execution_count": null,
   "metadata": {},
   "outputs": [],
   "source": []
  }
 ],
 "metadata": {
  "kernelspec": {
   "display_name": "Python 3",
   "language": "python",
   "name": "python3"
  },
  "language_info": {
   "codemirror_mode": {
    "name": "ipython",
    "version": 3
   },
   "file_extension": ".py",
   "mimetype": "text/x-python",
   "name": "python",
   "nbconvert_exporter": "python",
   "pygments_lexer": "ipython3",
   "version": "3.6.7"
  }
 },
 "nbformat": 4,
 "nbformat_minor": 2
}
